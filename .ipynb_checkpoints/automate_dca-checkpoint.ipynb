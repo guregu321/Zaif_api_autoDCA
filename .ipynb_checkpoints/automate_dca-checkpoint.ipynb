{
 "cells": [
  {
   "cell_type": "code",
   "execution_count": 1,
   "metadata": {},
   "outputs": [],
   "source": [
    "from Zaif_api import Zaif_api\n",
    "import yaml\n",
    "import datetime\n",
    "import time"
   ]
  },
  {
   "cell_type": "code",
   "execution_count": 2,
   "metadata": {},
   "outputs": [],
   "source": [
    "path = \"../api_config.yaml\"\n",
    "with open(path) as f:\n",
    "    config = yaml.load(f, Loader=yaml.FullLoader)\n",
    "budget = config['budget']\n",
    "api_key = config['api_key']\n",
    "api_secret = config['api_secret']"
   ]
  },
  {
   "cell_type": "code",
   "execution_count": 3,
   "metadata": {},
   "outputs": [],
   "source": [
    "api = Zaif_api.zaif(api_key, api_secret)"
   ]
  },
  {
   "cell_type": "code",
   "execution_count": null,
   "metadata": {},
   "outputs": [
    {
     "name": "stdout",
     "output_type": "stream",
     "text": [
      "Job starting at 2021-09-14 14:27:14.484661\n",
      "All orders cancelled\n",
      "Bid placed at 359430.0 for 0.0011 ETH\n",
      "Bid placed at 359435.0 for 0.0011 ETH\n",
      "    amount = 383126.88701291, available = 383522.26551291\n",
      "Bid placed at 359450.0 for 0.0011 ETH\n",
      "    amount = 383126.87051291, available = 383522.26551291\n",
      "Bid placed at 359465.0 for 0.0011 ETH\n",
      "    amount = 383126.85401291, available = 383522.26551291\n",
      "Bid placed at 359485.0 for 0.0011 ETH\n",
      "    amount = 383126.83201291, available = 383522.26551291\n",
      "Bid placed at 359500.0 for 0.0011 ETH\n",
      "    amount = 383126.81551291, available = 383522.26551291\n",
      "Bid placed at 359490.0 for 0.0011 ETH\n",
      "    amount = 383126.82651291, available = 383522.26551291\n",
      "Bid placed at 359505.0 for 0.0011 ETH\n",
      "    amount = 383126.81001291, available = 383522.26551291\n",
      "Bid placed at 359525.0 for 0.0011 ETH\n",
      "    amount = 383126.78801291, available = 383522.26551291\n"
     ]
    }
   ],
   "source": [
    "print(\"Job starting at {}\".format(datetime.datetime.now()))\n",
    "\n",
    "##### Cancel all orders #####\n",
    "api.cancel_all_orders()\n",
    "print(\"All orders cancelled\")\n",
    "\n",
    "##### Get decimal limit #####\n",
    "currency_info = api.get_pair_info()\n",
    "decimal_length = len(str(currency_info['item_unit_step']))-2\n",
    "\n",
    "##### Place order at the highest bid price #####\n",
    "highest_bid = api.get_highest_bid()\n",
    "bid_price = highest_bid + 100 -5000\n",
    "bid_amount = round(budget/bid_price, decimal_length)\n",
    "trade_result = api.trade(price=bid_price, amount=bid_amount)\n",
    "print(\"Bid placed at {} for {} ETH\".format(bid_price, bid_amount))\n",
    "\n",
    "##### Get my balance ####\n",
    "balance_amount, balance_available = api.my_balance(\"jpy\")\n",
    "\n",
    "\n",
    "##### Repeat until my order gets fulfilled #####\n",
    "while balance_amount != balance_available:\n",
    "    \n",
    "    # Keep my bid the highest on the board\n",
    "    if bid_price != api.get_highest_bid():\n",
    "        \n",
    "        # Get outstanding bid amount\n",
    "        active_order = api.active_orders()\n",
    "        try:\n",
    "            outstanding_amount = list(active_order['return'].values())[0]['amount']\n",
    "        except:\n",
    "            outstanding_amount = 0\n",
    "        \n",
    "        # Re-bid\n",
    "        bid_price = api.get_highest_bid() + 100 - 5000\n",
    "        api.cancel_all_orders()\n",
    "        api.trade(price=bid_price, amount=outstanding_amount)\n",
    "        print(\"Bid placed at {} for {} ETH\".format(bid_price, outstanding_amount))\n",
    "        \n",
    "    time.sleep(1)\n",
    "    balance_amount, balance_available = api.my_balance(\"jpy\")\n",
    "    print(\"    amount = {}, available = {}\".format(balance_amount, balance_available))\n",
    "    \n",
    "api.cancel_all_orders()\n",
    "print(\"Order fulfilled\")"
   ]
  },
  {
   "cell_type": "markdown",
   "metadata": {},
   "source": [
    "# テスト用"
   ]
  },
  {
   "cell_type": "raw",
   "metadata": {},
   "source": [
    "api.cancel_all_orders()"
   ]
  },
  {
   "cell_type": "raw",
   "metadata": {},
   "source": [
    "balance_amount, balance_available = api.my_balance(\"jpy\")\n",
    "display(balance_amount, balance_available)"
   ]
  },
  {
   "cell_type": "code",
   "execution_count": null,
   "metadata": {},
   "outputs": [],
   "source": []
  }
 ],
 "metadata": {
  "kernelspec": {
   "display_name": "Python 3",
   "language": "python",
   "name": "python3"
  },
  "language_info": {
   "codemirror_mode": {
    "name": "ipython",
    "version": 3
   },
   "file_extension": ".py",
   "mimetype": "text/x-python",
   "name": "python",
   "nbconvert_exporter": "python",
   "pygments_lexer": "ipython3",
   "version": "3.8.5"
  }
 },
 "nbformat": 4,
 "nbformat_minor": 4
}
