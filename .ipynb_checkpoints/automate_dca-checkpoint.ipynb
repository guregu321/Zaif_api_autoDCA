{
 "cells": [
  {
   "cell_type": "code",
   "execution_count": 13,
   "metadata": {},
   "outputs": [],
   "source": [
    "from Zaif_api import Zaif_api"
   ]
  },
  {
   "cell_type": "code",
   "execution_count": 4,
   "metadata": {},
   "outputs": [],
   "source": [
    "import hashlib\n",
    "import hmac\n",
    "import json\n",
    "import time\n",
    "import datetime\n",
    "import urllib\n",
    "import requests"
   ]
  },
  {
   "cell_type": "code",
   "execution_count": 11,
   "metadata": {},
   "outputs": [],
   "source": [
    "############### Parameters ############################################################################\n",
    "# How much to buy (in yen)\n",
    "budget = 400\n",
    "\n",
    "# API key\n",
    "api_key = \"\"\n",
    "\n",
    "# API secret\n",
    "api_secret = \"\"\n",
    "\n",
    "#######################################################################################################"
   ]
  },
  {
   "cell_type": "code",
   "execution_count": 3,
   "metadata": {},
   "outputs": [],
   "source": [
    "##### Define global_nonce #####\n",
    "# Zaif only allows 1 trading api calls per second\n",
    "global_nonce = int(time.time())"
   ]
  },
  {
   "cell_type": "code",
   "execution_count": 14,
   "metadata": {},
   "outputs": [],
   "source": [
    "api = Zaif_api.zaif(api_key, api_secret)"
   ]
  },
  {
   "cell_type": "code",
   "execution_count": null,
   "metadata": {},
   "outputs": [],
   "source": [
    "print(\"Job starting at {}\".format(datetime.datetime.now()))\n",
    "\n",
    "##### Cancel all orders #####\n",
    "api.cancel_all_orders()\n",
    "print(\"All orders cancelled\")\n",
    "\n",
    "##### Get decimal limit #####\n",
    "currency_info = api.get_pair_info()\n",
    "decimal_length = len(str(currency_info['item_unit_step']))-2\n",
    "\n",
    "##### Place order at the highest bid price #####\n",
    "highest_bid = api.get_highest_bid()\n",
    "bid_price = highest_bid + 100\n",
    "bid_amount = round(budget/bid_price, decimal_length)\n",
    "trade_result = api.trade(price=bid_price, amount=bid_amount)\n",
    "print(\"Bid placed at {} for {} ETH\".format(bid_price, bid_amount))\n",
    "\n",
    "##### Get my balance ####\n",
    "balance_amount, balance_available = api.my_balance(\"jpy\")\n",
    "\n",
    "\n",
    "##### Repeat until my order gets fulfilled #####\n",
    "while balance_amount != balance_available:\n",
    "    \n",
    "    # Keep my bid the highest on the board\n",
    "    if bid_price != api.get_highest_bid():\n",
    "        \n",
    "        # Get outstanding bid amount\n",
    "        active_order = api.active_orders()\n",
    "        try:\n",
    "            outstanding_amount = list(active_order['return'].values())[0]['amount']\n",
    "        except:\n",
    "            outstanding_amount = 0\n",
    "        \n",
    "        # Re-bid\n",
    "        bid_price = api.get_highest_bid() + 100\n",
    "        api.cancel_all_orders()\n",
    "        api.trade(price=bid_price, amount=outstanding_amount)\n",
    "        print(\"Bid placed at {} for {} ETH\".format(bid_price, outstanding_amount))\n",
    "        \n",
    "    time.sleep(1)\n",
    "    balance_amount, balance_available = api.my_balance(\"jpy\")\n",
    "    \n",
    "api.cancel_all_orders()\n",
    "print(\"Order fulfilled\")"
   ]
  },
  {
   "cell_type": "markdown",
   "metadata": {},
   "source": [
    "# テスト用"
   ]
  },
  {
   "cell_type": "markdown",
   "metadata": {},
   "source": [
    "api.cancel_all_orders()"
   ]
  },
  {
   "cell_type": "markdown",
   "metadata": {},
   "source": [
    "balance_amount, balance_available = api.my_balance(\"jpy\")\n",
    "display(balance_amount, balance_available)"
   ]
  }
 ],
 "metadata": {
  "kernelspec": {
   "display_name": "Python 3",
   "language": "python",
   "name": "python3"
  },
  "language_info": {
   "codemirror_mode": {
    "name": "ipython",
    "version": 3
   },
   "file_extension": ".py",
   "mimetype": "text/x-python",
   "name": "python",
   "nbconvert_exporter": "python",
   "pygments_lexer": "ipython3",
   "version": "3.8.5"
  }
 },
 "nbformat": 4,
 "nbformat_minor": 4
}
