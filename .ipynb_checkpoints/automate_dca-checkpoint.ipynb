{
 "cells": [
  {
   "cell_type": "code",
   "execution_count": 1,
   "metadata": {},
   "outputs": [],
   "source": [
    "from Zaif_api import Zaif_api\n",
    "import yaml\n",
    "import datetime\n",
    "import time"
   ]
  },
  {
   "cell_type": "code",
   "execution_count": 2,
   "metadata": {},
   "outputs": [
    {
     "name": "stdout",
     "output_type": "stream",
     "text": [
      "Buying amount is 7000\n"
     ]
    }
   ],
   "source": [
    "path = \"../api_config.yaml\"\n",
    "with open(path) as f:\n",
    "    config = yaml.load(f, Loader=yaml.FullLoader)\n",
    "budget = config['budget']\n",
    "api_key = config['api_key']\n",
    "api_secret = config['api_secret']\n",
    "print(\"Buying amount is {}\".format(budget))"
   ]
  },
  {
   "cell_type": "code",
   "execution_count": 3,
   "metadata": {},
   "outputs": [],
   "source": [
    "api = Zaif_api.zaif(api_key, api_secret)"
   ]
  },
  {
   "cell_type": "code",
   "execution_count": 4,
   "metadata": {},
   "outputs": [
    {
     "name": "stdout",
     "output_type": "stream",
     "text": [
      "Job starting at 2021-09-20 06:32:27.680582\n",
      "Initialized\n",
      "Bid placed at 351100.0 for 0.0199 ETH\n",
      "    amount = 376129.87701291, available = 383116.76701291\n"
     ]
    },
    {
     "ename": "NameError",
     "evalue": "name 'result' is not defined",
     "output_type": "error",
     "traceback": [
      "\u001b[0;31m---------------------------------------------------------------------------\u001b[0m",
      "\u001b[0;31mNameError\u001b[0m                                 Traceback (most recent call last)",
      "\u001b[0;32m<ipython-input-4-a0a6851b1e8b>\u001b[0m in \u001b[0;36m<module>\u001b[0;34m\u001b[0m\n\u001b[1;32m     46\u001b[0m \u001b[0;34m\u001b[0m\u001b[0m\n\u001b[1;32m     47\u001b[0m \u001b[0mapi\u001b[0m\u001b[0;34m.\u001b[0m\u001b[0mcancel_all_orders\u001b[0m\u001b[0;34m(\u001b[0m\u001b[0;34m)\u001b[0m\u001b[0;34m\u001b[0m\u001b[0;34m\u001b[0m\u001b[0m\n\u001b[0;32m---> 48\u001b[0;31m \u001b[0mprint\u001b[0m\u001b[0;34m(\u001b[0m\u001b[0mresult\u001b[0m\u001b[0;34m)\u001b[0m\u001b[0;34m\u001b[0m\u001b[0;34m\u001b[0m\u001b[0m\n\u001b[0m\u001b[1;32m     49\u001b[0m \u001b[0mprint\u001b[0m\u001b[0;34m(\u001b[0m\u001b[0;34m\"Order fulfilled\"\u001b[0m\u001b[0;34m)\u001b[0m\u001b[0;34m\u001b[0m\u001b[0;34m\u001b[0m\u001b[0m\n",
      "\u001b[0;31mNameError\u001b[0m: name 'result' is not defined"
     ]
    }
   ],
   "source": [
    "print(\"Job starting at {}\".format(datetime.datetime.now()))\n",
    "\n",
    "##### Cancel all orders #####\n",
    "api.cancel_all_orders()\n",
    "print(\"Initialized\")\n",
    "\n",
    "##### Get decimal limit #####\n",
    "currency_info = api.get_pair_info()\n",
    "decimal_length = len(str(currency_info['item_unit_step']))-2\n",
    "\n",
    "##### Place order at the highest bid price #####\n",
    "highest_bid = api.get_highest_bid()\n",
    "bid_price = highest_bid + 100\n",
    "bid_amount = round(budget/bid_price, decimal_length)\n",
    "trade_result = api.trade(price=bid_price, amount=bid_amount)\n",
    "print(\"Bid placed at {} for {} ETH\".format(bid_price, bid_amount))\n",
    "\n",
    "##### Get my balance ####\n",
    "balance_amount, balance_available = api.my_balance(\"jpy\")\n",
    "print(\"    amount = {}, available = {}\".format(balance_amount, balance_available))\n",
    "\n",
    "##### Repeat until my order gets fulfilled #####\n",
    "while balance_amount != balance_available:\n",
    "    \n",
    "    # Keep my bid the highest on the board\n",
    "    if bid_price != api.get_highest_bid():\n",
    "        \n",
    "        print(\"    amount = {}, available = {}\".format(balance_amount, balance_available))\n",
    "        \n",
    "        # Get outstanding bid amount\n",
    "        active_order = api.active_orders()\n",
    "        try:\n",
    "            outstanding_amount = list(active_order['return'].values())[0]['amount']\n",
    "        except:\n",
    "            outstanding_amount = 0\n",
    "        \n",
    "        # Re-bid\n",
    "        bid_price = api.get_highest_bid() + 100\n",
    "        api.cancel_all_orders()\n",
    "        result = api.trade(price=bid_price, amount=outstanding_amount)\n",
    "        print(\"Bid placed at {} for {} ETH\".format(bid_price, outstanding_amount))\n",
    "        \n",
    "    time.sleep(1)\n",
    "    balance_amount, balance_available = api.my_balance(\"jpy\")\n",
    "    \n",
    "    \n",
    "api.cancel_all_orders()\n",
    "print(\"Order fulfilled\")"
   ]
  },
  {
   "cell_type": "markdown",
   "metadata": {},
   "source": [
    "# テスト用"
   ]
  },
  {
   "cell_type": "markdown",
   "metadata": {},
   "source": [
    "api.cancel_all_orders()"
   ]
  },
  {
   "cell_type": "markdown",
   "metadata": {},
   "source": [
    "balance_amount, balance_available = api.my_balance(\"jpy\")\n",
    "display(balance_amount, balance_available)"
   ]
  },
  {
   "cell_type": "markdown",
   "metadata": {},
   "source": [
    "test = {'success': 0, 'error': 'unknown error'}\n",
    "print(test['success'])\n"
   ]
  },
  {
   "cell_type": "code",
   "execution_count": null,
   "metadata": {},
   "outputs": [],
   "source": []
  }
 ],
 "metadata": {
  "kernelspec": {
   "display_name": "Python 3",
   "language": "python",
   "name": "python3"
  },
  "language_info": {
   "codemirror_mode": {
    "name": "ipython",
    "version": 3
   },
   "file_extension": ".py",
   "mimetype": "text/x-python",
   "name": "python",
   "nbconvert_exporter": "python",
   "pygments_lexer": "ipython3",
   "version": "3.8.8"
  }
 },
 "nbformat": 4,
 "nbformat_minor": 4
}
