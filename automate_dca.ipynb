{
 "cells": [
  {
   "cell_type": "code",
   "execution_count": 1,
   "metadata": {},
   "outputs": [],
   "source": [
    "from Zaif_api import Zaif_api\n",
    "import yaml\n",
    "import datetime\n",
    "import time"
   ]
  },
  {
   "cell_type": "code",
   "execution_count": 2,
   "metadata": {},
   "outputs": [],
   "source": [
    "path = \"../api_config.yaml\"\n",
    "with open(path) as f:\n",
    "    config = yaml.load(f, Loader=yaml.FullLoader)\n",
    "budget = config['budget']\n",
    "api_key = config['api_key']\n",
    "api_secret = config['api_secret']"
   ]
  },
  {
   "cell_type": "code",
   "execution_count": 3,
   "metadata": {},
   "outputs": [],
   "source": [
    "api = Zaif_api.zaif(api_key, api_secret)"
   ]
  },
  {
   "cell_type": "code",
   "execution_count": 4,
   "metadata": {},
   "outputs": [
    {
     "name": "stdout",
     "output_type": "stream",
     "text": [
      "Job starting at 2021-09-14 14:44:06.532737\n",
      "All orders cancelled\n",
      "Bid placed at 360200.0 for 0.0011 ETH\n",
      "    amount = 383126.04551291, available = 383522.26551291\n",
      "Bid placed at 360200.0 for 0.0011 ETH\n",
      "    amount = 383126.04551291, available = 383522.26551291\n",
      "Bid placed at 360200.0 for 0.0011 ETH\n",
      "    amount = 383126.04551291, available = 383522.26551291\n",
      "Bid placed at 359690.0 for 0.0011 ETH\n",
      "    amount = 383126.60651291, available = 383522.26551291\n",
      "Bid placed at 359690.0 for 0.0011 ETH\n",
      "    amount = 383126.60651291, available = 383522.26551291\n",
      "Bid placed at 359690.0 for 0.0011 ETH\n",
      "    amount = 383126.60651291, available = 383522.26551291\n",
      "Bid placed at 359690.0 for 0.0011 ETH\n",
      "    amount = 383126.60651291, available = 383522.26551291\n",
      "Bid placed at 359705.0 for 0.0011 ETH\n",
      "    amount = 383126.59001291, available = 383522.26551291\n",
      "Bid placed at 359775.0 for 0.0011 ETH\n",
      "    amount = 383126.51301291, available = 383522.26551291\n",
      "Bid placed at 359775.0 for 0.0011 ETH\n",
      "    amount = 383126.51301291, available = 383522.26551291\n",
      "Bid placed at 359775.0 for 0.0011 ETH\n",
      "    amount = 383126.51301291, available = 383522.26551291\n",
      "Bid placed at 359775.0 for 0.0011 ETH\n",
      "    amount = 383126.51301291, available = 383522.26551291\n",
      "Bid placed at 359775.0 for 0.0011 ETH\n",
      "    amount = 383126.51301291, available = 383522.26551291\n",
      "Bid placed at 359835.0 for 0.0011 ETH\n",
      "    amount = 383126.44701291, available = 383522.26551291\n",
      "Bid placed at 359835.0 for 0.0011 ETH\n",
      "    amount = 383126.44701291, available = 383522.26551291\n",
      "Bid placed at 359835.0 for 0.0011 ETH\n",
      "    amount = 383126.44701291, available = 383522.26551291\n",
      "Bid placed at 359835.0 for 0.0011 ETH\n",
      "    amount = 383126.44701291, available = 383522.26551291\n",
      "Bid placed at 359785.0 for 0.0011 ETH\n",
      "    amount = 383126.50201291, available = 383522.26551291\n",
      "Bid placed at 359785.0 for 0.0011 ETH\n",
      "    amount = 383126.50201291, available = 383522.26551291\n",
      "Bid placed at 359785.0 for 0.0011 ETH\n",
      "    amount = 383126.50201291, available = 383522.26551291\n",
      "Bid placed at 359785.0 for 0.0011 ETH\n",
      "    amount = 383126.50201291, available = 383522.26551291\n",
      "Bid placed at 359785.0 for 0.0011 ETH\n",
      "    amount = 383126.50201291, available = 383522.26551291\n",
      "Bid placed at 359785.0 for 0.0011 ETH\n",
      "    amount = 383126.50201291, available = 383522.26551291\n",
      "Bid placed at 359805.0 for 0.0011 ETH\n",
      "    amount = 383126.48001291, available = 383522.26551291\n",
      "Bid placed at 359810.0 for 0.0011 ETH\n",
      "    amount = 383126.47451291, available = 383522.26551291\n",
      "Bid placed at 359810.0 for 0.0011 ETH\n",
      "    amount = 383126.47451291, available = 383522.26551291\n",
      "Bid placed at 359810.0 for 0.0011 ETH\n",
      "    amount = 383126.47451291, available = 383522.26551291\n",
      "Bid placed at 359795.0 for 0.0011 ETH\n",
      "    amount = 383126.49101291, available = 383522.26551291\n",
      "Bid placed at 359445.0 for 0.0011 ETH\n",
      "    amount = 383126.87601291, available = 383522.26551291\n",
      "Bid placed at 359450.0 for 0.0011 ETH\n",
      "    amount = 383126.87051291, available = 383522.26551291\n",
      "Bid placed at 359450.0 for 0.0011 ETH\n",
      "    amount = 383126.87051291, available = 383522.26551291\n",
      "Bid placed at 359450.0 for 0.0011 ETH\n",
      "    amount = 383126.87051291, available = 383522.26551291\n",
      "Bid placed at 359450.0 for 0.0011 ETH\n",
      "    amount = 383126.87051291, available = 383522.26551291\n",
      "Bid placed at 359345.0 for 0.0011 ETH\n",
      "    amount = 383126.98601291, available = 383522.26551291\n",
      "Bid placed at 359390.0 for 0.0011 ETH\n",
      "    amount = 383126.93651291, available = 383522.26551291\n",
      "Bid placed at 359390.0 for 0.0011 ETH\n",
      "    amount = 383126.93651291, available = 383522.26551291\n",
      "Bid placed at 359455.0 for 0.0011 ETH\n",
      "    amount = 383126.86501291, available = 383522.26551291\n",
      "Bid placed at 359455.0 for 0.0011 ETH\n",
      "    amount = 383126.86501291, available = 383522.26551291\n",
      "Bid placed at 359490.0 for 0.0011 ETH\n",
      "    amount = 383126.82651291, available = 383522.26551291\n",
      "Bid placed at 359490.0 for 0.0011 ETH\n",
      "    amount = 383126.82651291, available = 383522.26551291\n",
      "Bid placed at 359490.0 for 0.0011 ETH\n",
      "    amount = 383126.82651291, available = 383522.26551291\n",
      "Bid placed at 359490.0 for 0.0011 ETH\n",
      "    amount = 383126.82651291, available = 383522.26551291\n",
      "Bid placed at 359460.0 for 0.0011 ETH\n",
      "    amount = 383126.85951291, available = 383522.26551291\n",
      "Bid placed at 359500.0 for 0.0011 ETH\n",
      "    amount = 383126.81551291, available = 383522.26551291\n",
      "Bid placed at 359500.0 for 0.0011 ETH\n",
      "    amount = 383126.81551291, available = 383522.26551291\n",
      "Bid placed at 359500.0 for 0.0011 ETH\n",
      "    amount = 383126.81551291, available = 383522.26551291\n"
     ]
    },
    {
     "ename": "KeyboardInterrupt",
     "evalue": "",
     "output_type": "error",
     "traceback": [
      "\u001b[0;31m---------------------------------------------------------------------------\u001b[0m",
      "\u001b[0;31mKeyboardInterrupt\u001b[0m                         Traceback (most recent call last)",
      "\u001b[0;32m<ipython-input-4-b274adbb97b6>\u001b[0m in \u001b[0;36m<module>\u001b[0;34m\u001b[0m\n\u001b[1;32m     35\u001b[0m         \u001b[0;31m# Re-bid\u001b[0m\u001b[0;34m\u001b[0m\u001b[0;34m\u001b[0m\u001b[0;34m\u001b[0m\u001b[0m\n\u001b[1;32m     36\u001b[0m         \u001b[0mbid_price\u001b[0m \u001b[0;34m=\u001b[0m \u001b[0mapi\u001b[0m\u001b[0;34m.\u001b[0m\u001b[0mget_highest_bid\u001b[0m\u001b[0;34m(\u001b[0m\u001b[0;34m)\u001b[0m \u001b[0;34m+\u001b[0m \u001b[0;36m100\u001b[0m \u001b[0;34m-\u001b[0m \u001b[0;36m5000\u001b[0m\u001b[0;34m\u001b[0m\u001b[0;34m\u001b[0m\u001b[0m\n\u001b[0;32m---> 37\u001b[0;31m         \u001b[0mapi\u001b[0m\u001b[0;34m.\u001b[0m\u001b[0mcancel_all_orders\u001b[0m\u001b[0;34m(\u001b[0m\u001b[0;34m)\u001b[0m\u001b[0;34m\u001b[0m\u001b[0;34m\u001b[0m\u001b[0m\n\u001b[0m\u001b[1;32m     38\u001b[0m         \u001b[0mresult\u001b[0m \u001b[0;34m=\u001b[0m \u001b[0mapi\u001b[0m\u001b[0;34m.\u001b[0m\u001b[0mtrade\u001b[0m\u001b[0;34m(\u001b[0m\u001b[0mprice\u001b[0m\u001b[0;34m=\u001b[0m\u001b[0mbid_price\u001b[0m\u001b[0;34m,\u001b[0m \u001b[0mamount\u001b[0m\u001b[0;34m=\u001b[0m\u001b[0moutstanding_amount\u001b[0m\u001b[0;34m)\u001b[0m\u001b[0;34m\u001b[0m\u001b[0;34m\u001b[0m\u001b[0m\n\u001b[1;32m     39\u001b[0m         \u001b[0;32mwhile\u001b[0m \u001b[0mresult\u001b[0m\u001b[0;34m[\u001b[0m\u001b[0;34m'success'\u001b[0m\u001b[0;34m]\u001b[0m \u001b[0;34m==\u001b[0m \u001b[0;36m0\u001b[0m\u001b[0;34m:\u001b[0m\u001b[0;34m\u001b[0m\u001b[0;34m\u001b[0m\u001b[0m\n",
      "\u001b[0;32m/mnt/git/Zaif_api_autoDCA/Zaif_api/Zaif_api.py\u001b[0m in \u001b[0;36mcancel_all_orders\u001b[0;34m(self)\u001b[0m\n\u001b[1;32m    129\u001b[0m \u001b[0;34m\u001b[0m\u001b[0m\n\u001b[1;32m    130\u001b[0m     \u001b[0;32mdef\u001b[0m \u001b[0mcancel_all_orders\u001b[0m\u001b[0;34m(\u001b[0m\u001b[0mself\u001b[0m\u001b[0;34m)\u001b[0m\u001b[0;34m:\u001b[0m\u001b[0;34m\u001b[0m\u001b[0;34m\u001b[0m\u001b[0m\n\u001b[0;32m--> 131\u001b[0;31m         \u001b[0morders\u001b[0m \u001b[0;34m=\u001b[0m \u001b[0mself\u001b[0m\u001b[0;34m.\u001b[0m\u001b[0mactive_orders\u001b[0m\u001b[0;34m(\u001b[0m\u001b[0;34m)\u001b[0m\u001b[0;34m\u001b[0m\u001b[0;34m\u001b[0m\u001b[0m\n\u001b[0m\u001b[1;32m    132\u001b[0m         \u001b[0morder_ids\u001b[0m \u001b[0;34m=\u001b[0m \u001b[0;34m[\u001b[0m\u001b[0mk\u001b[0m \u001b[0;32mfor\u001b[0m \u001b[0mk\u001b[0m\u001b[0;34m,\u001b[0m \u001b[0mv\u001b[0m \u001b[0;32min\u001b[0m \u001b[0morders\u001b[0m\u001b[0;34m[\u001b[0m\u001b[0;34m\"return\"\u001b[0m\u001b[0;34m]\u001b[0m\u001b[0;34m.\u001b[0m\u001b[0mitems\u001b[0m\u001b[0;34m(\u001b[0m\u001b[0;34m)\u001b[0m\u001b[0;34m]\u001b[0m\u001b[0;34m\u001b[0m\u001b[0;34m\u001b[0m\u001b[0m\n\u001b[1;32m    133\u001b[0m         \u001b[0mself\u001b[0m\u001b[0;34m.\u001b[0m\u001b[0mcancel_order\u001b[0m\u001b[0;34m(\u001b[0m\u001b[0morder_ids\u001b[0m\u001b[0;34m)\u001b[0m\u001b[0;34m\u001b[0m\u001b[0;34m\u001b[0m\u001b[0m\n",
      "\u001b[0;32m/mnt/git/Zaif_api_autoDCA/Zaif_api/Zaif_api.py\u001b[0m in \u001b[0;36mactive_orders\u001b[0;34m(self, pair, req)\u001b[0m\n\u001b[1;32m    111\u001b[0m     \u001b[0;32mdef\u001b[0m \u001b[0mactive_orders\u001b[0m\u001b[0;34m(\u001b[0m\u001b[0mself\u001b[0m\u001b[0;34m,\u001b[0m \u001b[0mpair\u001b[0m\u001b[0;34m=\u001b[0m\u001b[0;34m\"eth_jpy\"\u001b[0m\u001b[0;34m,\u001b[0m \u001b[0mreq\u001b[0m\u001b[0;34m=\u001b[0m\u001b[0;34m{\u001b[0m\u001b[0;34m}\u001b[0m\u001b[0;34m)\u001b[0m\u001b[0;34m:\u001b[0m\u001b[0;34m\u001b[0m\u001b[0;34m\u001b[0m\u001b[0m\n\u001b[1;32m    112\u001b[0m         \u001b[0mreq\u001b[0m\u001b[0;34m[\u001b[0m\u001b[0;34m\"currency_pair\"\u001b[0m\u001b[0;34m]\u001b[0m \u001b[0;34m=\u001b[0m \u001b[0mpair\u001b[0m\u001b[0;34m\u001b[0m\u001b[0;34m\u001b[0m\u001b[0m\n\u001b[0;32m--> 113\u001b[0;31m         \u001b[0mresult\u001b[0m \u001b[0;34m=\u001b[0m \u001b[0mself\u001b[0m\u001b[0;34m.\u001b[0m\u001b[0mtrading_api_call\u001b[0m\u001b[0;34m(\u001b[0m\u001b[0;34m\"active_orders\"\u001b[0m\u001b[0;34m,\u001b[0m \u001b[0mreq\u001b[0m\u001b[0;34m)\u001b[0m\u001b[0;34m\u001b[0m\u001b[0;34m\u001b[0m\u001b[0m\n\u001b[0m\u001b[1;32m    114\u001b[0m         \u001b[0;32mreturn\u001b[0m \u001b[0mresult\u001b[0m\u001b[0;34m\u001b[0m\u001b[0;34m\u001b[0m\u001b[0m\n\u001b[1;32m    115\u001b[0m \u001b[0;34m\u001b[0m\u001b[0m\n",
      "\u001b[0;32m/mnt/git/Zaif_api_autoDCA/Zaif_api/Zaif_api.py\u001b[0m in \u001b[0;36mtrading_api_call\u001b[0;34m(self, method, req)\u001b[0m\n\u001b[1;32m     87\u001b[0m \u001b[0;34m\u001b[0m\u001b[0m\n\u001b[1;32m     88\u001b[0m     \u001b[0;32mdef\u001b[0m \u001b[0mtrading_api_call\u001b[0m\u001b[0;34m(\u001b[0m\u001b[0mself\u001b[0m\u001b[0;34m,\u001b[0m \u001b[0mmethod\u001b[0m\u001b[0;34m,\u001b[0m \u001b[0mreq\u001b[0m\u001b[0;34m=\u001b[0m\u001b[0;34m{\u001b[0m\u001b[0;34m}\u001b[0m\u001b[0;34m)\u001b[0m\u001b[0;34m:\u001b[0m\u001b[0;34m\u001b[0m\u001b[0;34m\u001b[0m\u001b[0m\n\u001b[0;32m---> 89\u001b[0;31m         \u001b[0mresult\u001b[0m \u001b[0;34m=\u001b[0m \u001b[0mself\u001b[0m\u001b[0;34m.\u001b[0m\u001b[0mtrading_api\u001b[0m\u001b[0;34m(\u001b[0m\u001b[0mmethod\u001b[0m\u001b[0;34m,\u001b[0m \u001b[0mreq\u001b[0m\u001b[0;34m)\u001b[0m\u001b[0;34m\u001b[0m\u001b[0;34m\u001b[0m\u001b[0m\n\u001b[0m\u001b[1;32m     90\u001b[0m         \u001b[0;32mwhile\u001b[0m \u001b[0;34m'json'\u001b[0m \u001b[0;32mnot\u001b[0m \u001b[0;32min\u001b[0m \u001b[0mresult\u001b[0m\u001b[0;34m.\u001b[0m\u001b[0mheaders\u001b[0m\u001b[0;34m.\u001b[0m\u001b[0mget\u001b[0m\u001b[0;34m(\u001b[0m\u001b[0;34m'content-type'\u001b[0m\u001b[0;34m)\u001b[0m\u001b[0;34m:\u001b[0m\u001b[0;34m\u001b[0m\u001b[0;34m\u001b[0m\u001b[0m\n\u001b[1;32m     91\u001b[0m             \u001b[0;31m# print(result.text)\u001b[0m\u001b[0;34m\u001b[0m\u001b[0;34m\u001b[0m\u001b[0;34m\u001b[0m\u001b[0m\n",
      "\u001b[0;32m/mnt/git/Zaif_api_autoDCA/Zaif_api/Zaif_api.py\u001b[0m in \u001b[0;36mtrading_api\u001b[0;34m(self, method, req)\u001b[0m\n\u001b[1;32m     68\u001b[0m         \"\"\"\n\u001b[1;32m     69\u001b[0m         \u001b[0;32mwhile\u001b[0m \u001b[0mself\u001b[0m\u001b[0;34m.\u001b[0m\u001b[0mnonce\u001b[0m \u001b[0;34m==\u001b[0m \u001b[0mint\u001b[0m\u001b[0;34m(\u001b[0m\u001b[0mtime\u001b[0m\u001b[0;34m.\u001b[0m\u001b[0mtime\u001b[0m\u001b[0;34m(\u001b[0m\u001b[0;34m)\u001b[0m\u001b[0;34m)\u001b[0m\u001b[0;34m:\u001b[0m\u001b[0;34m\u001b[0m\u001b[0;34m\u001b[0m\u001b[0m\n\u001b[0;32m---> 70\u001b[0;31m             \u001b[0mtime\u001b[0m\u001b[0;34m.\u001b[0m\u001b[0msleep\u001b[0m\u001b[0;34m(\u001b[0m\u001b[0;36m0.1\u001b[0m\u001b[0;34m)\u001b[0m\u001b[0;34m\u001b[0m\u001b[0;34m\u001b[0m\u001b[0m\n\u001b[0m\u001b[1;32m     71\u001b[0m         \u001b[0mself\u001b[0m\u001b[0;34m.\u001b[0m\u001b[0mnonce\u001b[0m \u001b[0;34m=\u001b[0m \u001b[0mint\u001b[0m\u001b[0;34m(\u001b[0m\u001b[0mtime\u001b[0m\u001b[0;34m.\u001b[0m\u001b[0mtime\u001b[0m\u001b[0;34m(\u001b[0m\u001b[0;34m)\u001b[0m\u001b[0;34m)\u001b[0m\u001b[0;34m\u001b[0m\u001b[0;34m\u001b[0m\u001b[0m\n\u001b[1;32m     72\u001b[0m         \u001b[0mreq\u001b[0m\u001b[0;34m[\u001b[0m\u001b[0;34m\"method\"\u001b[0m\u001b[0;34m]\u001b[0m \u001b[0;34m=\u001b[0m \u001b[0mmethod\u001b[0m\u001b[0;34m\u001b[0m\u001b[0;34m\u001b[0m\u001b[0m\n",
      "\u001b[0;31mKeyboardInterrupt\u001b[0m: "
     ]
    }
   ],
   "source": [
    "print(\"Job starting at {}\".format(datetime.datetime.now()))\n",
    "\n",
    "##### Cancel all orders #####\n",
    "api.cancel_all_orders()\n",
    "print(\"All orders cancelled\")\n",
    "\n",
    "##### Get decimal limit #####\n",
    "currency_info = api.get_pair_info()\n",
    "decimal_length = len(str(currency_info['item_unit_step']))-2\n",
    "\n",
    "##### Place order at the highest bid price #####\n",
    "highest_bid = api.get_highest_bid()\n",
    "bid_price = highest_bid + 100 -5000\n",
    "bid_amount = round(budget/bid_price, decimal_length)\n",
    "trade_result = api.trade(price=bid_price, amount=bid_amount)\n",
    "print(\"Bid placed at {} for {} ETH\".format(bid_price, bid_amount))\n",
    "\n",
    "##### Get my balance ####\n",
    "balance_amount, balance_available = api.my_balance(\"jpy\")\n",
    "print(\"    amount = {}, available = {}\".format(balance_amount, balance_available))\n",
    "\n",
    "##### Repeat until my order gets fulfilled #####\n",
    "while balance_amount != balance_available:\n",
    "    \n",
    "    # Keep my bid the highest on the board\n",
    "    if bid_price != api.get_highest_bid():\n",
    "        \n",
    "        # Get outstanding bid amount\n",
    "        active_order = api.active_orders()\n",
    "        try:\n",
    "            outstanding_amount = list(active_order['return'].values())[0]['amount']\n",
    "        except:\n",
    "            outstanding_amount = 0\n",
    "        \n",
    "        # Re-bid\n",
    "        bid_price = api.get_highest_bid() + 100 - 5000\n",
    "        api.cancel_all_orders()\n",
    "        result = api.trade(price=bid_price, amount=outstanding_amount)\n",
    "        while result['success'] == 0:\n",
    "            print(\"    retry bid\")\n",
    "            result = api.trade(price=bid_price, amount=outstanding_amount)\n",
    "        print(\"Bid placed at {} for {} ETH\".format(bid_price, outstanding_amount))\n",
    "        \n",
    "    time.sleep(1)\n",
    "    balance_amount, balance_available = api.my_balance(\"jpy\")\n",
    "    print(\"    amount = {}, available = {}\".format(balance_amount, balance_available))\n",
    "    \n",
    "api.cancel_all_orders()\n",
    "print(result)\n",
    "print(\"Order fulfilled\")"
   ]
  },
  {
   "cell_type": "markdown",
   "metadata": {},
   "source": [
    "# テスト用"
   ]
  },
  {
   "cell_type": "raw",
   "metadata": {},
   "source": [
    "api.cancel_all_orders()"
   ]
  },
  {
   "cell_type": "raw",
   "metadata": {},
   "source": [
    "balance_amount, balance_available = api.my_balance(\"jpy\")\n",
    "display(balance_amount, balance_available)"
   ]
  },
  {
   "cell_type": "raw",
   "metadata": {},
   "source": [
    "test = {'success': 0, 'error': 'unknown error'}\n",
    "print(test['success'])\n"
   ]
  },
  {
   "cell_type": "code",
   "execution_count": null,
   "metadata": {},
   "outputs": [],
   "source": []
  }
 ],
 "metadata": {
  "kernelspec": {
   "display_name": "Python 3",
   "language": "python",
   "name": "python3"
  },
  "language_info": {
   "codemirror_mode": {
    "name": "ipython",
    "version": 3
   },
   "file_extension": ".py",
   "mimetype": "text/x-python",
   "name": "python",
   "nbconvert_exporter": "python",
   "pygments_lexer": "ipython3",
   "version": "3.8.5"
  }
 },
 "nbformat": 4,
 "nbformat_minor": 4
}
