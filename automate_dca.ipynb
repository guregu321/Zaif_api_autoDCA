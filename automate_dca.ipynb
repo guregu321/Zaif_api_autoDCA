{
 "cells": [
  {
   "cell_type": "code",
   "execution_count": 1,
   "metadata": {},
   "outputs": [],
   "source": [
    "from Zaif_api import Zaif_api\n",
    "# import time\n",
    "import datetime"
   ]
  },
  {
   "cell_type": "raw",
   "metadata": {},
   "source": [
    "import hashlib\n",
    "import hmac\n",
    "import json\n",
    "import time\n",
    "\n",
    "import urllib\n",
    "import requests"
   ]
  },
  {
   "cell_type": "code",
   "execution_count": 2,
   "metadata": {},
   "outputs": [],
   "source": [
    "############### Parameters ############################################################################\n",
    "# How much to buy (in yen)\n",
    "budget = 400\n",
    "\n",
    "# API key\n",
    "api_key = \"\"\n",
    "\n",
    "# API secret\n",
    "api_secret = \"\"\n",
    "\n",
    "#######################################################################################################"
   ]
  },
  {
   "cell_type": "code",
   "execution_count": 3,
   "metadata": {},
   "outputs": [],
   "source": [
    "##### Define global_nonce #####\n",
    "# Zaif only allows limited trading api calls per second\n",
    "global_nonce = int(time.time())"
   ]
  },
  {
   "cell_type": "code",
   "execution_count": 4,
   "metadata": {},
   "outputs": [],
   "source": [
    "api = Zaif_api.zaif(api_key, api_secret)"
   ]
  },
  {
   "cell_type": "raw",
   "metadata": {},
   "source": [
    "print(\"Job starting at {}\".format(datetime.datetime.now()))\n",
    "\n",
    "##### Cancel all orders #####\n",
    "api.cancel_all_orders()\n",
    "print(\"All orders cancelled\")\n",
    "\n",
    "##### Get decimal limit #####\n",
    "currency_info = api.get_pair_info()\n",
    "decimal_length = len(str(currency_info['item_unit_step']))-2\n",
    "\n",
    "##### Place order at the highest bid price #####\n",
    "highest_bid = api.get_highest_bid()\n",
    "bid_price = highest_bid + 100\n",
    "bid_amount = round(budget/bid_price, decimal_length)\n",
    "trade_result = api.trade(price=bid_price, amount=bid_amount)\n",
    "print(\"Bid placed at {} for {} ETH\".format(bid_price, bid_amount))\n",
    "\n",
    "##### Get my balance ####\n",
    "balance_amount, balance_available = api.my_balance(\"jpy\")\n",
    "\n",
    "\n",
    "##### Repeat until my order gets fulfilled #####\n",
    "while balance_amount != balance_available:\n",
    "    \n",
    "    # Keep my bid the highest on the board\n",
    "    if bid_price != api.get_highest_bid():\n",
    "        \n",
    "        # Get outstanding bid amount\n",
    "        active_order = api.active_orders()\n",
    "        try:\n",
    "            outstanding_amount = list(active_order['return'].values())[0]['amount']\n",
    "        except:\n",
    "            outstanding_amount = 0\n",
    "        \n",
    "        # Re-bid\n",
    "        bid_price = api.get_highest_bid() + 100\n",
    "        api.cancel_all_orders()\n",
    "        api.trade(price=bid_price, amount=outstanding_amount)\n",
    "        print(\"Bid placed at {} for {} ETH\".format(bid_price, outstanding_amount))\n",
    "        \n",
    "    time.sleep(1)\n",
    "    balance_amount, balance_available = api.my_balance(\"jpy\")\n",
    "    \n",
    "api.cancel_all_orders()\n",
    "print(\"Order fulfilled\")"
   ]
  },
  {
   "cell_type": "markdown",
   "metadata": {},
   "source": [
    "# テスト用"
   ]
  },
  {
   "cell_type": "markdown",
   "metadata": {},
   "source": [
    "api.cancel_all_orders()"
   ]
  },
  {
   "cell_type": "code",
   "execution_count": 5,
   "metadata": {},
   "outputs": [
    {
     "ename": "NameError",
     "evalue": "name 'global_nonce' is not defined",
     "output_type": "error",
     "traceback": [
      "\u001b[0;31m---------------------------------------------------------------------------\u001b[0m",
      "\u001b[0;31mNameError\u001b[0m                                 Traceback (most recent call last)",
      "\u001b[0;32m<ipython-input-5-04717a11c6e8>\u001b[0m in \u001b[0;36m<module>\u001b[0;34m\u001b[0m\n\u001b[0;32m----> 1\u001b[0;31m \u001b[0mbalance_amount\u001b[0m\u001b[0;34m,\u001b[0m \u001b[0mbalance_available\u001b[0m \u001b[0;34m=\u001b[0m \u001b[0mapi\u001b[0m\u001b[0;34m.\u001b[0m\u001b[0mmy_balance\u001b[0m\u001b[0;34m(\u001b[0m\u001b[0;34m\"jpy\"\u001b[0m\u001b[0;34m)\u001b[0m\u001b[0;34m\u001b[0m\u001b[0;34m\u001b[0m\u001b[0m\n\u001b[0m\u001b[1;32m      2\u001b[0m \u001b[0mdisplay\u001b[0m\u001b[0;34m(\u001b[0m\u001b[0mbalance_amount\u001b[0m\u001b[0;34m,\u001b[0m \u001b[0mbalance_available\u001b[0m\u001b[0;34m)\u001b[0m\u001b[0;34m\u001b[0m\u001b[0;34m\u001b[0m\u001b[0m\n",
      "\u001b[0;32m/mnt/Zaif_api_autoDCA/Zaif_api/Zaif_api.py\u001b[0m in \u001b[0;36mmy_balance\u001b[0;34m(self, coin)\u001b[0m\n\u001b[1;32m     71\u001b[0m \u001b[0;34m\u001b[0m\u001b[0m\n\u001b[1;32m     72\u001b[0m     \u001b[0;32mdef\u001b[0m \u001b[0mmy_balance\u001b[0m\u001b[0;34m(\u001b[0m\u001b[0mself\u001b[0m\u001b[0;34m,\u001b[0m \u001b[0mcoin\u001b[0m\u001b[0;34m=\u001b[0m\u001b[0;34m\"jpy\"\u001b[0m\u001b[0;34m)\u001b[0m\u001b[0;34m:\u001b[0m\u001b[0;34m\u001b[0m\u001b[0;34m\u001b[0m\u001b[0m\n\u001b[0;32m---> 73\u001b[0;31m         \u001b[0mresult\u001b[0m \u001b[0;34m=\u001b[0m \u001b[0mself\u001b[0m\u001b[0;34m.\u001b[0m\u001b[0mtrading_api_call\u001b[0m\u001b[0;34m(\u001b[0m\u001b[0;34m\"get_info\"\u001b[0m\u001b[0;34m)\u001b[0m\u001b[0;34m.\u001b[0m\u001b[0mjson\u001b[0m\u001b[0;34m(\u001b[0m\u001b[0;34m)\u001b[0m\u001b[0;34m\u001b[0m\u001b[0;34m\u001b[0m\u001b[0m\n\u001b[0m\u001b[1;32m     74\u001b[0m         \u001b[0;31m#print(result[\"success\"])\u001b[0m\u001b[0;34m\u001b[0m\u001b[0;34m\u001b[0m\u001b[0;34m\u001b[0m\u001b[0m\n\u001b[1;32m     75\u001b[0m         \u001b[0mdata\u001b[0m \u001b[0;34m=\u001b[0m \u001b[0;34m{\u001b[0m\u001b[0;34m}\u001b[0m\u001b[0;34m\u001b[0m\u001b[0;34m\u001b[0m\u001b[0m\n",
      "\u001b[0;32m/mnt/Zaif_api_autoDCA/Zaif_api/Zaif_api.py\u001b[0m in \u001b[0;36mtrading_api_call\u001b[0;34m(self, method, req)\u001b[0m\n\u001b[1;32m     51\u001b[0m         \"\"\"\n\u001b[1;32m     52\u001b[0m         \u001b[0;32mglobal\u001b[0m \u001b[0mglobal_nonce\u001b[0m\u001b[0;34m\u001b[0m\u001b[0;34m\u001b[0m\u001b[0m\n\u001b[0;32m---> 53\u001b[0;31m         \u001b[0;32mwhile\u001b[0m \u001b[0mglobal_nonce\u001b[0m \u001b[0;34m==\u001b[0m \u001b[0mint\u001b[0m\u001b[0;34m(\u001b[0m\u001b[0mtime\u001b[0m\u001b[0;34m.\u001b[0m\u001b[0mtime\u001b[0m\u001b[0;34m(\u001b[0m\u001b[0;34m)\u001b[0m\u001b[0;34m)\u001b[0m\u001b[0;34m:\u001b[0m\u001b[0;34m\u001b[0m\u001b[0;34m\u001b[0m\u001b[0m\n\u001b[0m\u001b[1;32m     54\u001b[0m             \u001b[0mtime\u001b[0m\u001b[0;34m.\u001b[0m\u001b[0msleep\u001b[0m\u001b[0;34m(\u001b[0m\u001b[0;36m0.1\u001b[0m\u001b[0;34m)\u001b[0m\u001b[0;34m\u001b[0m\u001b[0;34m\u001b[0m\u001b[0m\n\u001b[1;32m     55\u001b[0m         \u001b[0mglobal_nonce\u001b[0m \u001b[0;34m=\u001b[0m \u001b[0mint\u001b[0m\u001b[0;34m(\u001b[0m\u001b[0mtime\u001b[0m\u001b[0;34m.\u001b[0m\u001b[0mtime\u001b[0m\u001b[0;34m(\u001b[0m\u001b[0;34m)\u001b[0m\u001b[0;34m)\u001b[0m\u001b[0;34m\u001b[0m\u001b[0;34m\u001b[0m\u001b[0m\n",
      "\u001b[0;31mNameError\u001b[0m: name 'global_nonce' is not defined"
     ]
    }
   ],
   "source": [
    "balance_amount, balance_available = api.my_balance(\"jpy\")\n",
    "display(balance_amount, balance_available)"
   ]
  },
  {
   "cell_type": "code",
   "execution_count": null,
   "metadata": {},
   "outputs": [],
   "source": []
  }
 ],
 "metadata": {
  "kernelspec": {
   "display_name": "Python 3",
   "language": "python",
   "name": "python3"
  },
  "language_info": {
   "codemirror_mode": {
    "name": "ipython",
    "version": 3
   },
   "file_extension": ".py",
   "mimetype": "text/x-python",
   "name": "python",
   "nbconvert_exporter": "python",
   "pygments_lexer": "ipython3",
   "version": "3.8.5"
  }
 },
 "nbformat": 4,
 "nbformat_minor": 4
}
